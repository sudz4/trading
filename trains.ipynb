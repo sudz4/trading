{
 "cells": [
  {
   "attachments": {},
   "cell_type": "markdown",
   "metadata": {},
   "source": [
    "| Stock Trading | Railroads & Railroad Technology  |\n",
    "| ----------- | ----------- |  "
   ]
  },
  {
   "cell_type": "code",
   "execution_count": 1,
   "metadata": {},
   "outputs": [],
   "source": [
    "# libraries\n",
    "import requests\n",
    "import pandas as pd\n",
    "\n",
    "# API tokens\n",
    "from config import TOKEN_IEX_CLOUD_API"
   ]
  },
  {
   "cell_type": "code",
   "execution_count": 7,
   "metadata": {},
   "outputs": [
    {
     "name": "stdout",
     "output_type": "stream",
     "text": [
      "{'UNP': {'quote': {'avgTotalVolume': 3320221, 'calculationPrice': 'close', 'change': 1.07, 'changePercent': 0.00534, 'close': 201.59, 'closeSource': 'official', 'closeTime': 1676667601920, 'companyName': 'Union Pacific Corp.', 'currency': 'USD', 'delayedPrice': 201.195, 'delayedPriceTime': 1676667575253, 'extendedChange': -0.37, 'extendedChangePercent': -0.00184, 'extendedPrice': 201.22, 'extendedPriceTime': 1676680340490, 'high': 201.65, 'highSource': '15 minute delayed price', 'highTime': 1676667599998, 'iexAskPrice': None, 'iexAskSize': None, 'iexBidPrice': None, 'iexBidSize': None, 'iexClose': 201.59, 'iexCloseTime': 1676667597166, 'iexLastUpdated': None, 'iexMarketPercent': None, 'iexOpen': 199.21, 'iexOpenTime': 1676644221985, 'iexRealtimePrice': None, 'iexRealtimeSize': None, 'iexVolume': None, 'lastTradeTime': 1676667599970, 'latestPrice': 201.59, 'latestSource': 'Close', 'latestTime': 'February 17, 2023', 'latestUpdate': 1676667601920, 'latestVolume': 7063859, 'low': 198.558, 'lowSource': '15 minute delayed price', 'lowTime': 1676644201211, 'marketCap': 123347474240, 'oddLotDelayedPrice': 201.214, 'oddLotDelayedPriceTime': 1676667572710, 'open': 198.82, 'openTime': 1676644200000, 'openSource': 'official', 'peRatio': 17.98, 'previousClose': 200.52, 'previousVolume': 3375082, 'primaryExchange': 'NEW YORK STOCK EXCHANGE INC.', 'symbol': 'UNP', 'volume': 7063859, 'week52High': 274.06, 'week52Low': 182.58, 'ytdChange': -0.021124480610421503, 'isUSMarketOpen': False}}, 'CSX': {'quote': {'avgTotalVolume': 14445662, 'calculationPrice': 'close', 'change': 0.1, 'changePercent': 0.00321, 'close': 31.21, 'closeSource': 'official', 'closeTime': 1676667600551, 'companyName': 'CSX Corp.', 'currency': 'USD', 'delayedPrice': 31.215, 'delayedPriceTime': 1676667574773, 'extendedChange': -0.01, 'extendedChangePercent': -0.00032, 'extendedPrice': 31.2, 'extendedPriceTime': 1676677735964, 'high': 31.395, 'highSource': '15 minute delayed price', 'highTime': 1676667599904, 'iexAskPrice': None, 'iexAskSize': None, 'iexBidPrice': None, 'iexBidSize': None, 'iexClose': 31.21, 'iexCloseTime': 1676667598007, 'iexLastUpdated': None, 'iexMarketPercent': None, 'iexOpen': 31, 'iexOpenTime': 1676644202524, 'iexRealtimePrice': None, 'iexRealtimeSize': None, 'iexVolume': None, 'lastTradeTime': 1676667599867, 'latestPrice': 31.21, 'latestSource': 'Close', 'latestTime': 'February 17, 2023', 'latestUpdate': 1676667600551, 'latestVolume': 12394328, 'low': 30.8, 'lowSource': '15 minute delayed price', 'lowTime': 1676644258514, 'marketCap': 64373915595, 'oddLotDelayedPrice': 31.22, 'oddLotDelayedPriceTime': 1676667572727, 'open': 31.01, 'openTime': 1676644200000, 'openSource': 'official', 'peRatio': 16.01, 'previousClose': 31.11, 'previousVolume': 14411469, 'primaryExchange': 'NASDAQ', 'symbol': 'CSX', 'volume': 12394328, 'week52High': 38.27, 'week52Low': 25.72, 'ytdChange': 0.010634144609425421, 'isUSMarketOpen': False}}, 'NSC': {'quote': {'avgTotalVolume': 1902738, 'calculationPrice': 'close', 'change': -1.87, 'changePercent': -0.00813, 'close': 228.15, 'closeSource': 'official', 'closeTime': 1676667843290, 'companyName': 'Norfolk Southern Corp.', 'currency': 'USD', 'delayedPrice': 228.15, 'delayedPriceTime': 1676667575128, 'extendedChange': 0, 'extendedChangePercent': 0, 'extendedPrice': 228.15, 'extendedPriceTime': 1676681827987, 'high': 232.62, 'highSource': '15 minute delayed price', 'highTime': 1676667600000, 'iexAskPrice': None, 'iexAskSize': None, 'iexBidPrice': None, 'iexBidSize': None, 'iexClose': 228.2, 'iexCloseTime': 1676667599302, 'iexLastUpdated': None, 'iexMarketPercent': None, 'iexOpen': 227.99, 'iexOpenTime': 1676644201309, 'iexRealtimePrice': None, 'iexRealtimeSize': None, 'iexVolume': None, 'lastTradeTime': 1676667600000, 'latestPrice': 228.15, 'latestSource': 'Close', 'latestTime': 'February 17, 2023', 'latestUpdate': 1676667843290, 'latestVolume': 5012395, 'low': 226.5, 'lowSource': '15 minute delayed price', 'lowTime': 1676644596408, 'marketCap': 51968509386, 'oddLotDelayedPrice': 228.14, 'oddLotDelayedPriceTime': 1676667575575, 'open': 228.6, 'openTime': 1676644201031, 'openSource': 'official', 'peRatio': 16.45, 'previousClose': 230.02, 'previousVolume': 3169479, 'primaryExchange': 'NEW YORK STOCK EXCHANGE INC.', 'symbol': 'NSC', 'volume': 5012395, 'week52High': 285.6, 'week52Low': 201.43, 'ytdChange': -0.0772204995819781, 'isUSMarketOpen': False}}, 'CNI': {'quote': {'avgTotalVolume': 1072406, 'calculationPrice': 'close', 'change': -0.69, 'changePercent': -0.00588, 'close': 116.75, 'closeSource': 'official', 'closeTime': 1676667601961, 'companyName': 'Canadian National Railway Co.', 'currency': 'USD', 'delayedPrice': 116.7, 'delayedPriceTime': 1676667573251, 'extendedChange': 0, 'extendedChangePercent': 0, 'extendedPrice': 116.75, 'extendedPriceTime': 1676678400001, 'high': 117.615, 'highSource': 'IEX real time price', 'highTime': 1676647282771, 'iexAskPrice': None, 'iexAskSize': None, 'iexBidPrice': None, 'iexBidSize': None, 'iexClose': 116.7, 'iexCloseTime': 1676667595447, 'iexLastUpdated': None, 'iexMarketPercent': None, 'iexOpen': 116.58, 'iexOpenTime': 1676644263203, 'iexRealtimePrice': None, 'iexRealtimeSize': None, 'iexVolume': None, 'lastTradeTime': 1676667599655, 'latestPrice': 116.75, 'latestSource': 'Close', 'latestTime': 'February 17, 2023', 'latestUpdate': 1676667601961, 'latestVolume': 621736, 'low': 116.27, 'lowSource': '15 minute delayed price', 'lowTime': 1676651645634, 'marketCap': 78243879727, 'oddLotDelayedPrice': 116.69, 'oddLotDelayedPriceTime': 1676667573251, 'open': 116.52, 'openTime': 1676644200000, 'openSource': 'official', 'peRatio': 21.3, 'previousClose': 117.44, 'previousVolume': 767904, 'primaryExchange': 'NEW YORK STOCK EXCHANGE INC.', 'symbol': 'CNI', 'volume': 621736, 'week52High': 135.27, 'week52Low': 103.35, 'ytdChange': -0.023797227456258344, 'isUSMarketOpen': False}}, 'CP': {'quote': {'avgTotalVolume': 1826821, 'calculationPrice': 'close', 'change': -0.75, 'changePercent': -0.00957, 'close': 77.61, 'closeSource': 'official', 'closeTime': 1676667602093, 'companyName': 'Canadian Pacific Railway Ltd', 'currency': 'USD', 'delayedPrice': 77.6, 'delayedPriceTime': 1676667599494, 'extendedChange': 0, 'extendedChangePercent': 0, 'extendedPrice': 77.61, 'extendedPriceTime': 1676678400001, 'high': 78.55, 'highSource': '15 minute delayed price', 'highTime': 1676667599993, 'iexAskPrice': None, 'iexAskSize': None, 'iexBidPrice': None, 'iexBidSize': None, 'iexClose': 77.54, 'iexCloseTime': 1676667585231, 'iexLastUpdated': None, 'iexMarketPercent': None, 'iexOpen': 77.98, 'iexOpenTime': 1676644516207, 'iexRealtimePrice': None, 'iexRealtimeSize': None, 'iexVolume': None, 'lastTradeTime': 1676667599494, 'latestPrice': 77.61, 'latestSource': 'Close', 'latestTime': 'February 17, 2023', 'latestUpdate': 1676667602093, 'latestVolume': 882420, 'low': 77.47, 'lowSource': '15 minute delayed price', 'lowTime': 1676658419103, 'marketCap': 72215789593, 'oddLotDelayedPrice': 77.56, 'oddLotDelayedPriceTime': 1676667572745, 'open': 77.94, 'openTime': 1676644200000, 'openSource': 'official', 'peRatio': 32.47, 'previousClose': 78.36, 'previousVolume': 1076850, 'primaryExchange': 'NEW YORK STOCK EXCHANGE INC.', 'symbol': 'CP', 'volume': 882420, 'week52High': 83.72, 'week52Low': 65.04, 'ytdChange': 0.030918001072529698, 'isUSMarketOpen': False}}, 'RAIL': {'quote': {'avgTotalVolume': 34518, 'calculationPrice': 'close', 'change': 0.02, 'changePercent': 0.00513, 'close': 3.92, 'closeSource': 'official', 'closeTime': 1676667600141, 'companyName': 'FreightCar America Inc', 'currency': 'USD', 'delayedPrice': 3.91, 'delayedPriceTime': 1676667594893, 'extendedChange': 0.01, 'extendedChangePercent': 0.00255, 'extendedPrice': 3.93, 'extendedPriceTime': 1676680823644, 'high': 3.94, 'highSource': '15 minute delayed price', 'highTime': 1676667594894, 'iexAskPrice': None, 'iexAskSize': None, 'iexBidPrice': None, 'iexBidSize': None, 'iexClose': 3.9, 'iexCloseTime': 1676656026219, 'iexLastUpdated': None, 'iexMarketPercent': None, 'iexOpen': 3.9, 'iexOpenTime': 1676656026219, 'iexRealtimePrice': None, 'iexRealtimeSize': None, 'iexVolume': None, 'lastTradeTime': 1676667594893, 'latestPrice': 3.92, 'latestSource': 'Close', 'latestTime': 'February 17, 2023', 'latestUpdate': 1676667600141, 'latestVolume': 33123, 'low': 3.87, 'lowSource': '15 minute delayed price', 'lowTime': 1676652727285, 'marketCap': 67515360, 'oddLotDelayedPrice': 3.91, 'oddLotDelayedPriceTime': 1676667594893, 'open': 3.92, 'openTime': 1676644200000, 'openSource': 'official', 'peRatio': -3.04, 'previousClose': 3.9, 'previousVolume': 23246, 'primaryExchange': 'NASDAQ', 'symbol': 'RAIL', 'volume': 33123, 'week52High': 6.9, 'week52Low': 3.07, 'ytdChange': 0.23012999999999986, 'isUSMarketOpen': False}}}\n"
     ]
    }
   ],
   "source": [
    "\"\"\"Railroad stocks Trading on the NYSE or NASDAQ as of Jan 23, 2023\"\"\"\n",
    "# define a list of stock symbols to retrieve data for\n",
    "rail_COMPANY_stocks = ['UNP','CSX','NSC','CNI','CP','RAIL']\n",
    "\n",
    "# define the API endpoint for retrieving batch stock quotes\n",
    "# using the batch parameter increases speed/efficiency, and is more polite, and cost effective -> limiting API pings\n",
    "endpoint = 'https://cloud.iexapis.com/stable/stock/market/batch'\n",
    "\n",
    "# define the API parameters for the batch stock quote request\n",
    "params = {\n",
    "    'symbols': ','.join(rail_COMPANY_stocks),\n",
    "    'types': 'quote',\n",
    "    'token': TOKEN_IEX_CLOUD_API\n",
    "}\n",
    "\n",
    "# send the API request and retrieve the response\n",
    "response = requests.get(endpoint, params=params)\n",
    "\n",
    "# check if the API request was successful\n",
    "if response.status_code == 200:\n",
    "    # print the response JSON data\n",
    "    print(response.json())\n",
    "else:\n",
    "    print('Error retrieving data from IEX Cloud')"
   ]
  },
  {
   "cell_type": "code",
   "execution_count": 24,
   "metadata": {},
   "outputs": [
    {
     "data": {
      "text/html": [
       "<div>\n",
       "<style scoped>\n",
       "    .dataframe tbody tr th:only-of-type {\n",
       "        vertical-align: middle;\n",
       "    }\n",
       "\n",
       "    .dataframe tbody tr th {\n",
       "        vertical-align: top;\n",
       "    }\n",
       "\n",
       "    .dataframe thead th {\n",
       "        text-align: right;\n",
       "    }\n",
       "</style>\n",
       "<table border=\"1\" class=\"dataframe\">\n",
       "  <thead>\n",
       "    <tr style=\"text-align: right;\">\n",
       "      <th></th>\n",
       "      <th>Symbol</th>\n",
       "      <th>Company Name</th>\n",
       "      <th>Latest Price</th>\n",
       "    </tr>\n",
       "  </thead>\n",
       "  <tbody>\n",
       "    <tr>\n",
       "      <th>0</th>\n",
       "      <td>UNP</td>\n",
       "      <td>Union Pacific Corp.</td>\n",
       "      <td>201.59</td>\n",
       "    </tr>\n",
       "    <tr>\n",
       "      <th>1</th>\n",
       "      <td>CSX</td>\n",
       "      <td>CSX Corp.</td>\n",
       "      <td>31.21</td>\n",
       "    </tr>\n",
       "    <tr>\n",
       "      <th>2</th>\n",
       "      <td>NSC</td>\n",
       "      <td>Norfolk Southern Corp.</td>\n",
       "      <td>228.15</td>\n",
       "    </tr>\n",
       "    <tr>\n",
       "      <th>3</th>\n",
       "      <td>CNI</td>\n",
       "      <td>Canadian National Railway Co.</td>\n",
       "      <td>116.75</td>\n",
       "    </tr>\n",
       "    <tr>\n",
       "      <th>4</th>\n",
       "      <td>CP</td>\n",
       "      <td>Canadian Pacific Railway Ltd</td>\n",
       "      <td>77.61</td>\n",
       "    </tr>\n",
       "    <tr>\n",
       "      <th>5</th>\n",
       "      <td>RAIL</td>\n",
       "      <td>FreightCar America Inc</td>\n",
       "      <td>3.92</td>\n",
       "    </tr>\n",
       "  </tbody>\n",
       "</table>\n",
       "</div>"
      ],
      "text/plain": [
       "  Symbol                   Company Name  Latest Price\n",
       "0    UNP            Union Pacific Corp.        201.59\n",
       "1    CSX                      CSX Corp.         31.21\n",
       "2    NSC         Norfolk Southern Corp.        228.15\n",
       "3    CNI  Canadian National Railway Co.        116.75\n",
       "4     CP   Canadian Pacific Railway Ltd         77.61\n",
       "5   RAIL         FreightCar America Inc          3.92"
      ]
     },
     "metadata": {},
     "output_type": "display_data"
    }
   ],
   "source": [
    "\"\"\"use the format pattern for extracting data from the IEX cloud API, change the parameters as necessary\"\"\"\n",
    "# define a list of stock symbols to retrieve data for\n",
    "rail_COMPANY_stocks = ['UNP', 'CSX', 'NSC', 'CNI', 'CP', 'RAIL']\n",
    "\n",
    "# define the API endpoint for retrieving batch stock quotes\n",
    "endpoint = 'https://cloud.iexapis.com/stable/stock/market/batch'\n",
    "\n",
    "# define the API parameters for the batch stock quote request\n",
    "params = {\n",
    "    'symbols': ','.join(rail_COMPANY_stocks),\n",
    "    'types': 'quote',\n",
    "    'token': TOKEN_IEX_CLOUD_API\n",
    "}\n",
    "\n",
    "# send the API request and retrieve the response\n",
    "response = requests.get(endpoint, params=params)\n",
    "\n",
    "# check if the API request was successful\n",
    "if response.status_code == 200:\n",
    "    # extract the nested JSON data and flatten it into a dictionary\n",
    "    nested_data = response.json()\n",
    "    flat_data = {}\n",
    "    for symbol in rail_COMPANY_stocks:\n",
    "        flat_data[symbol] = nested_data[symbol]['quote']\n",
    "    \n",
    "    # extract the 'latestPrice' value for each stock\n",
    "    latest_prices = {symbol: data['latestPrice'] for symbol, data in flat_data.items()}\n",
    "    \n",
    "    # extract the 'companyName' value for each stock\n",
    "    company_names = {symbol: data['companyName'] for symbol, data in flat_data.items()}\n",
    "    \n",
    "    # store the data in a pandas DataFrame\n",
    "    data = pd.DataFrame({\n",
    "        'Symbol': list(latest_prices.keys()),\n",
    "        'Company Name': list(company_names.values()),\n",
    "        'Latest Price': list(latest_prices.values())\n",
    "    })\n",
    "    \n",
    "    # print the pandas DataFrame\n",
    "    display(data) # use display()for easier viewing as an html tabular format\n",
    "else:\n",
    "    print('Error retrieving data from IEX Cloud')\n"
   ]
  },
  {
   "cell_type": "code",
   "execution_count": null,
   "metadata": {},
   "outputs": [],
   "source": [
    "\"\"\"Railroad-related (rail car leasing, repairs, etc.) stocks Trading on the US Markets\"\"\""
   ]
  },
  {
   "cell_type": "code",
   "execution_count": null,
   "metadata": {},
   "outputs": [],
   "source": []
  },
  {
   "cell_type": "code",
   "execution_count": null,
   "metadata": {},
   "outputs": [],
   "source": [
    "\"\"\"Railroad-related technology companies trading on the US Markets\"\"\""
   ]
  },
  {
   "cell_type": "code",
   "execution_count": null,
   "metadata": {},
   "outputs": [],
   "source": []
  },
  {
   "attachments": {},
   "cell_type": "markdown",
   "metadata": {},
   "source": [
    "| Railroads | General |\n",
    "| ----------- | ----------- |\n",
    "\n",
    "Railroad companies in the U.S.\n",
    "* Union Pacific Railroad: UNP\n",
    "* BNSF Railway: Private, owned by Berkshire Hathaway (BRK.A, BRK.B)\n",
    "* CSX Transportation: CSX\n",
    "* Norfolk Southern Railway: NSC\n",
    "* Amtrak: Private, not publicly traded\n",
    "\n",
    "\n",
    "| Coding Considerations / Planning & Ideas |\n",
    "| ----------- |\n",
    "* XXX\n",
    "* XXX"
   ]
  },
  {
   "attachments": {},
   "cell_type": "markdown",
   "metadata": {},
   "source": [
    "| END OF PROGRAM |\n",
    "| ----------- | "
   ]
  },
  {
   "cell_type": "markdown",
   "metadata": {},
   "source": []
  }
 ],
 "metadata": {
  "kernelspec": {
   "display_name": "TRADING_venv",
   "language": "python",
   "name": "python3"
  },
  "language_info": {
   "codemirror_mode": {
    "name": "ipython",
    "version": 3
   },
   "file_extension": ".py",
   "mimetype": "text/x-python",
   "name": "python",
   "nbconvert_exporter": "python",
   "pygments_lexer": "ipython3",
   "version": "3.11.1"
  },
  "orig_nbformat": 4,
  "vscode": {
   "interpreter": {
    "hash": "53d96d5b5b99e267628e5fe22b6bf0dd4eedc10f5f4c5cb6b57ee020fcfa289e"
   }
  }
 },
 "nbformat": 4,
 "nbformat_minor": 2
}
