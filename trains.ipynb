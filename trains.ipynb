{
 "cells": [
  {
   "attachments": {},
   "cell_type": "markdown",
   "metadata": {},
   "source": [
    "| Stock Trading | Railroads & Railroad Technology  |\n",
    "| ----------- | ----------- |  "
   ]
  },
  {
   "cell_type": "code",
   "execution_count": 1,
   "metadata": {},
   "outputs": [],
   "source": [
    "# libraries\n",
    "import requests\n",
    "import pandas as pd\n",
    "\n",
    "# API tokens\n",
    "from config import TOKEN_IEX_CLOUD_API"
   ]
  },
  {
   "cell_type": "code",
   "execution_count": 2,
   "metadata": {},
   "outputs": [
    {
     "name": "stdout",
     "output_type": "stream",
     "text": [
      "{'UNP': {'quote': {'avgTotalVolume': 2961747, 'calculationPrice': 'tops', 'change': -0.09, 'changePercent': -0.00045, 'close': 200.52, 'closeSource': 'official', 'closeTime': 1676581201923, 'companyName': 'Union Pacific Corp.', 'currency': 'USD', 'delayedPrice': 200.18, 'delayedPriceTime': 1676646524600, 'extendedChange': -1.68, 'extendedChangePercent': -0.00838, 'extendedPrice': 198.75, 'extendedPriceTime': 1676644199614, 'high': 200.975, 'highSource': 'IEX real time price', 'highTime': 1676647308401, 'iexAskPrice': 200.31, 'iexAskSize': 133, 'iexBidPrice': 196.82, 'iexBidSize': 107, 'iexClose': 200.47, 'iexCloseTime': 1676647394362, 'iexLastUpdated': 1676647394362, 'iexMarketPercent': 0.04731006245518503, 'iexOpen': 199.21, 'iexOpenTime': 1676644221985, 'iexRealtimePrice': 200.43, 'iexRealtimeSize': 50, 'iexVolume': 22763, 'lastTradeTime': 1676647394362, 'latestPrice': 200.43, 'latestSource': 'IEX real time price', 'latestTime': '10:23:14 AM', 'latestUpdate': 1676647394362, 'latestVolume': 481145, 'low': 198.558, 'lowSource': '15 minute delayed price', 'lowTime': 1676644201211, 'marketCap': 123224524344, 'oddLotDelayedPrice': 200.18, 'oddLotDelayedPriceTime': 1676646524600, 'open': 198.82, 'openTime': 1676644200000, 'openSource': 'official', 'peRatio': 17.88, 'previousClose': 200.52, 'previousVolume': 3375082, 'primaryExchange': 'NEW YORK STOCK EXCHANGE INC.', 'symbol': 'UNP', 'volume': 481145, 'week52High': 274.06, 'week52Low': 182.58, 'ytdChange': -0.021022753175254753, 'isUSMarketOpen': True}}, 'CSX': {'quote': {'avgTotalVolume': 13773473, 'calculationPrice': 'tops', 'change': 0.185, 'changePercent': 0.00595, 'close': None, 'closeSource': 'official', 'closeTime': None, 'companyName': 'CSX Corp.', 'currency': 'USD', 'delayedPrice': None, 'delayedPriceTime': None, 'extendedChange': None, 'extendedChangePercent': None, 'extendedPrice': None, 'extendedPriceTime': None, 'high': 31.385, 'highSource': 'IEX real time price', 'highTime': 1676647315953, 'iexAskPrice': 31.31, 'iexAskSize': 100, 'iexBidPrice': 31.28, 'iexBidSize': 500, 'iexClose': 31.295, 'iexCloseTime': 1676647416845, 'iexLastUpdated': 1676647416845, 'iexMarketPercent': 0.04166383307459988, 'iexOpen': 31, 'iexOpenTime': 1676644202524, 'iexRealtimePrice': 31.295, 'iexRealtimeSize': 100, 'iexVolume': 85158, 'lastTradeTime': 1676647416845, 'latestPrice': 31.295, 'latestSource': 'IEX real time price', 'latestTime': '10:23:36 AM', 'latestUpdate': 1676647416845, 'latestVolume': 2043931, 'low': None, 'lowSource': None, 'lowTime': None, 'marketCap': 65794881174, 'oddLotDelayedPrice': None, 'oddLotDelayedPriceTime': None, 'open': None, 'openTime': None, 'openSource': 'official', 'peRatio': 16.65, 'previousClose': 31.11, 'previousVolume': 14411469, 'primaryExchange': 'NASDAQ', 'symbol': 'CSX', 'volume': 2043931, 'week52High': 38.27, 'week52Low': 25.72, 'ytdChange': 0.010791833440929478, 'isUSMarketOpen': True}}, 'NSC': {'quote': {'avgTotalVolume': 1417479, 'calculationPrice': 'tops', 'change': 0.485, 'changePercent': 0.00211, 'close': 230.02, 'closeSource': 'official', 'closeTime': 1676581445331, 'companyName': 'Norfolk Southern Corp.', 'currency': 'USD', 'delayedPrice': 230.3, 'delayedPriceTime': 1676646525477, 'extendedChange': -2.605, 'extendedChangePercent': -0.0113, 'extendedPrice': 227.9, 'extendedPriceTime': 1676644199892, 'high': 232.62, 'highSource': '15 minute delayed price', 'highTime': 1676646525477, 'iexAskPrice': 235.89, 'iexAskSize': 100, 'iexBidPrice': 226.03, 'iexBidSize': 158, 'iexClose': 230.505, 'iexCloseTime': 1676647424317, 'iexLastUpdated': 1676647424317, 'iexMarketPercent': 0.08824606572950944, 'iexOpen': 227.99, 'iexOpenTime': 1676644201309, 'iexRealtimePrice': 230.505, 'iexRealtimeSize': 100, 'iexVolume': 64094, 'lastTradeTime': 1676647424317, 'latestPrice': 230.505, 'latestSource': 'IEX real time price', 'latestTime': '10:23:44 AM', 'latestUpdate': 1676647424317, 'latestVolume': 726310, 'low': 226.5, 'lowSource': '15 minute delayed price', 'lowTime': 1676644596408, 'marketCap': 52504936472, 'oddLotDelayedPrice': 230.41, 'oddLotDelayedPriceTime': 1676646527618, 'open': 228.6, 'openTime': 1676644200000, 'openSource': 'official', 'peRatio': 16.62, 'previousClose': 230.02, 'previousVolume': 3169479, 'primaryExchange': 'NEW YORK STOCK EXCHANGE INC.', 'symbol': 'NSC', 'volume': 726310, 'week52High': 285.6, 'week52Low': 201.43, 'ytdChange': -0.02279137010782889, 'isUSMarketOpen': True}}, 'CNI': {'quote': {'avgTotalVolume': 1063156, 'calculationPrice': 'tops', 'change': 0.17, 'changePercent': 0.00145, 'close': 117.44, 'closeSource': 'official', 'closeTime': 1676581202101, 'companyName': 'Canadian National Railway Co.', 'currency': 'USD', 'delayedPrice': 117.2, 'delayedPriceTime': 1676646524561, 'extendedChange': -0.31, 'extendedChangePercent': -0.00264, 'extendedPrice': 117.3, 'extendedPriceTime': 1676640967461, 'high': 117.615, 'highSource': 'IEX real time price', 'highTime': 1676647282771, 'iexAskPrice': 119.96, 'iexAskSize': 125, 'iexBidPrice': 117.35, 'iexBidSize': 100, 'iexClose': 117.61, 'iexCloseTime': 1676647305153, 'iexLastUpdated': 1676647305153, 'iexMarketPercent': 0.059810463204719076, 'iexOpen': 116.58, 'iexOpenTime': 1676644263203, 'iexRealtimePrice': 117.61, 'iexRealtimeSize': 10, 'iexVolume': 7422, 'lastTradeTime': 1676647305153, 'latestPrice': 117.61, 'latestSource': 'IEX real time price', 'latestTime': '10:21:45 AM', 'latestUpdate': 1676647305153, 'latestVolume': 124092, 'low': 116.5, 'lowSource': '15 minute delayed price', 'lowTime': 1676644247754, 'marketCap': 79083593054, 'oddLotDelayedPrice': 117.21, 'oddLotDelayedPriceTime': 1676646520134, 'open': 116.52, 'openTime': 1676644200000, 'openSource': 'official', 'peRatio': 21.46, 'previousClose': 117.44, 'previousVolume': 767904, 'primaryExchange': 'NEW YORK STOCK EXCHANGE INC.', 'symbol': 'CNI', 'volume': 124092, 'week52High': 135.27, 'week52Low': 103.35, 'ytdChange': -0.01680370121130554, 'isUSMarketOpen': True}}, 'CP': {'quote': {'avgTotalVolume': 2035359, 'calculationPrice': 'tops', 'change': 0.09, 'changePercent': 0.00115, 'close': 78.36, 'closeSource': 'official', 'closeTime': 1676581202168, 'companyName': 'Canadian Pacific Railway Ltd', 'currency': 'USD', 'delayedPrice': 78.263, 'delayedPriceTime': 1676646523263, 'extendedChange': 2, 'extendedChangePercent': 0.02549, 'extendedPrice': 80.45, 'extendedPriceTime': 1676643465479, 'high': 78.505, 'highSource': 'IEX real time price', 'highTime': 1676647200034, 'iexAskPrice': 78.41, 'iexAskSize': 100, 'iexBidPrice': 76.65, 'iexBidSize': 100, 'iexClose': 78.45, 'iexCloseTime': 1676647390733, 'iexLastUpdated': 1676647390733, 'iexMarketPercent': 0.04132648681945097, 'iexOpen': 77.98, 'iexOpenTime': 1676644516207, 'iexRealtimePrice': 78.45, 'iexRealtimeSize': 100, 'iexVolume': 8185, 'lastTradeTime': 1676647390733, 'latestPrice': 78.45, 'latestSource': 'IEX real time price', 'latestTime': '10:23:10 AM', 'latestUpdate': 1676647390733, 'latestVolume': 198057, 'low': 77.68, 'lowSource': '15 minute delayed price', 'lowTime': 1676644722007, 'marketCap': 72997406179, 'oddLotDelayedPrice': 78.27, 'oddLotDelayedPriceTime': 1676646488820, 'open': 77.94, 'openTime': 1676644200000, 'openSource': 'official', 'peRatio': 32.82, 'previousClose': 78.36, 'previousVolume': 1076850, 'primaryExchange': 'NEW YORK STOCK EXCHANGE INC.', 'symbol': 'CP', 'volume': 198057, 'week52High': 83.72, 'week52Low': 65.04, 'ytdChange': 0.04123580238637882, 'isUSMarketOpen': True}}, 'RAIL': {'quote': {'avgTotalVolume': 38677, 'calculationPrice': 'previousclose', 'change': 0, 'changePercent': 0, 'close': None, 'closeSource': 'official', 'closeTime': None, 'companyName': 'FreightCar America Inc', 'currency': 'USD', 'delayedPrice': None, 'delayedPriceTime': None, 'extendedChange': None, 'extendedChangePercent': None, 'extendedPrice': None, 'extendedPriceTime': None, 'high': None, 'highSource': None, 'highTime': None, 'iexAskPrice': 0, 'iexAskSize': 0, 'iexBidPrice': 0, 'iexBidSize': 0, 'iexClose': 3.86, 'iexCloseTime': 1676568623336, 'iexLastUpdated': 0, 'iexMarketPercent': None, 'iexOpen': None, 'iexOpenTime': None, 'iexRealtimePrice': 0, 'iexRealtimeSize': 0, 'iexVolume': 0, 'lastTradeTime': 1676646379888, 'latestPrice': 3.9, 'latestSource': 'Previous close', 'latestTime': 'February 16, 2023', 'latestUpdate': 1676523600000, 'latestVolume': 9215, 'low': None, 'lowSource': None, 'lowTime': None, 'marketCap': 67170893, 'oddLotDelayedPrice': None, 'oddLotDelayedPriceTime': None, 'open': None, 'openTime': None, 'openSource': 'official', 'peRatio': -3.02, 'previousClose': 3.9, 'previousVolume': 23246, 'primaryExchange': 'NASDAQ', 'symbol': 'RAIL', 'volume': 9215, 'week52High': 6.9, 'week52Low': 3.07, 'ytdChange': 0.1625000000000001, 'isUSMarketOpen': True}}}\n"
     ]
    }
   ],
   "source": [
    "\"\"\"Railroad stocks Trading on the NYSE or NASDAQ as of Jan 23, 2023\"\"\"\n",
    "# define a list of stock symbols to retrieve data for\n",
    "rail_stocks = ['UNP','CSX','NSC','CNI','CP','RAIL']\n",
    "\n",
    "# define the API endpoint for retrieving batch stock quotes\n",
    "endpoint = 'https://cloud.iexapis.com/stable/stock/market/batch'\n",
    "\n",
    "# define the API parameters for the batch stock quote request\n",
    "params = {\n",
    "    'symbols': ','.join(rail_stocks),\n",
    "    'types': 'quote',\n",
    "    'token': TOKEN_IEX_CLOUD_API\n",
    "}\n",
    "\n",
    "# send the API request and retrieve the response\n",
    "response = requests.get(endpoint, params=params)\n",
    "\n",
    "# check if the API request was successful\n",
    "if response.status_code == 200:\n",
    "    # print the response JSON data\n",
    "    print(response.json())\n",
    "else:\n",
    "    print('Error retrieving data from IEX Cloud')"
   ]
  },
  {
   "cell_type": "code",
   "execution_count": null,
   "metadata": {},
   "outputs": [],
   "source": [
    "\"\"\"Railroad-related (rail car leasing, repairs, etc.) stocks Trading on the US Markets\"\"\""
   ]
  },
  {
   "cell_type": "code",
   "execution_count": null,
   "metadata": {},
   "outputs": [],
   "source": []
  },
  {
   "cell_type": "code",
   "execution_count": null,
   "metadata": {},
   "outputs": [],
   "source": [
    "\"\"\"Railroad-related technology companies trading on the US Markets\"\"\""
   ]
  },
  {
   "cell_type": "code",
   "execution_count": null,
   "metadata": {},
   "outputs": [],
   "source": []
  },
  {
   "attachments": {},
   "cell_type": "markdown",
   "metadata": {},
   "source": [
    "| Railroads | General |\n",
    "| ----------- | ----------- |\n",
    "\n",
    "Railroad companies in the U.S.\n",
    "* Union Pacific Railroad: UNP\n",
    "* BNSF Railway: Private, owned by Berkshire Hathaway (BRK.A, BRK.B)\n",
    "* CSX Transportation: CSX\n",
    "* Norfolk Southern Railway: NSC\n",
    "* Amtrak: Private, not publicly traded\n",
    "\n",
    "\n",
    "| Coding Considerations / Planning & Ideas |\n",
    "| ----------- |\n",
    "* XXX\n",
    "* XXX"
   ]
  },
  {
   "cell_type": "markdown",
   "metadata": {},
   "source": []
  }
 ],
 "metadata": {
  "kernelspec": {
   "display_name": "TRADING_venv",
   "language": "python",
   "name": "python3"
  },
  "language_info": {
   "codemirror_mode": {
    "name": "ipython",
    "version": 3
   },
   "file_extension": ".py",
   "mimetype": "text/x-python",
   "name": "python",
   "nbconvert_exporter": "python",
   "pygments_lexer": "ipython3",
   "version": "3.11.1"
  },
  "orig_nbformat": 4,
  "vscode": {
   "interpreter": {
    "hash": "53d96d5b5b99e267628e5fe22b6bf0dd4eedc10f5f4c5cb6b57ee020fcfa289e"
   }
  }
 },
 "nbformat": 4,
 "nbformat_minor": 2
}
