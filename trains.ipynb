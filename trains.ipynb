{
 "cells": [
  {
   "attachments": {},
   "cell_type": "markdown",
   "metadata": {},
   "source": [
    "| Stock Trading | Railroads & Railroad Technology  |\n",
    "| ----------- | ----------- |  "
   ]
  },
  {
   "cell_type": "code",
   "execution_count": 1,
   "metadata": {},
   "outputs": [],
   "source": [
    "# libraries\n",
    "import requests\n",
    "import pandas as pd\n",
    "\n",
    "# API tokens\n",
    "from config import TOKEN_IEX_CLOUD_API"
   ]
  },
  {
   "cell_type": "code",
   "execution_count": 6,
   "metadata": {},
   "outputs": [
    {
     "name": "stdout",
     "output_type": "stream",
     "text": [
      "{'UNP': {'quote': {'avgTotalVolume': 2961747, 'calculationPrice': 'tops', 'change': -0.35, 'changePercent': -0.00175, 'close': 200.52, 'closeSource': 'official', 'closeTime': 1676581201923, 'companyName': 'Union Pacific Corp.', 'currency': 'USD', 'delayedPrice': 200.74, 'delayedPriceTime': 1676647170945, 'extendedChange': -1.42, 'extendedChangePercent': -0.00709, 'extendedPrice': 198.75, 'extendedPriceTime': 1676644199614, 'high': 200.975, 'highSource': 'IEX real time price', 'highTime': 1676647308401, 'iexAskPrice': 200.25, 'iexAskSize': 100, 'iexBidPrice': 196.82, 'iexBidSize': 134, 'iexClose': 200.17, 'iexCloseTime': 1676648054170, 'iexLastUpdated': 1676648054170, 'iexMarketPercent': 0.04270326035254706, 'iexOpen': 199.21, 'iexOpenTime': 1676644221985, 'iexRealtimePrice': 200.17, 'iexRealtimeSize': 4, 'iexVolume': 33487, 'lastTradeTime': 1676648054170, 'latestPrice': 200.17, 'latestSource': 'IEX real time price', 'latestTime': '10:34:14 AM', 'latestUpdate': 1676648054170, 'latestVolume': 784179, 'low': 198.558, 'lowSource': '15 minute delayed price', 'lowTime': 1676644201211, 'marketCap': 123064676136, 'oddLotDelayedPrice': 200.77, 'oddLotDelayedPriceTime': 1676647171008, 'open': 198.82, 'openTime': 1676644200000, 'openSource': 'official', 'peRatio': 17.86, 'previousClose': 200.52, 'previousVolume': 3375082, 'primaryExchange': 'NEW YORK STOCK EXCHANGE INC.', 'symbol': 'UNP', 'volume': 784179, 'week52High': 274.06, 'week52Low': 182.58, 'ytdChange': -0.022322753175254756, 'isUSMarketOpen': True}}, 'CSX': {'quote': {'avgTotalVolume': 13773473, 'calculationPrice': 'tops', 'change': 0.185, 'changePercent': 0.00595, 'close': None, 'closeSource': 'official', 'closeTime': None, 'companyName': 'CSX Corp.', 'currency': 'USD', 'delayedPrice': None, 'delayedPriceTime': None, 'extendedChange': None, 'extendedChangePercent': None, 'extendedPrice': None, 'extendedPriceTime': None, 'high': 31.385, 'highSource': 'IEX real time price', 'highTime': 1676647315953, 'iexAskPrice': 31.3, 'iexAskSize': 400, 'iexBidPrice': 31.28, 'iexBidSize': 104, 'iexClose': 31.295, 'iexCloseTime': 1676648054174, 'iexLastUpdated': 1676648054174, 'iexMarketPercent': 0.04387257048326966, 'iexOpen': 31, 'iexOpenTime': 1676644202524, 'iexRealtimePrice': 31.295, 'iexRealtimeSize': 100, 'iexVolume': 100699, 'lastTradeTime': 1676648054174, 'latestPrice': 31.295, 'latestSource': 'IEX real time price', 'latestTime': '10:34:14 AM', 'latestUpdate': 1676648054174, 'latestVolume': 2295261, 'low': None, 'lowSource': None, 'lowTime': None, 'marketCap': 65794881174, 'oddLotDelayedPrice': None, 'oddLotDelayedPriceTime': None, 'open': None, 'openTime': None, 'openSource': 'official', 'peRatio': 16.65, 'previousClose': 31.11, 'previousVolume': 14411469, 'primaryExchange': 'NASDAQ', 'symbol': 'CSX', 'volume': 2295261, 'week52High': 38.27, 'week52Low': 25.72, 'ytdChange': 0.010791833440929478, 'isUSMarketOpen': True}}, 'NSC': {'quote': {'avgTotalVolume': 1417479, 'calculationPrice': 'tops', 'change': 0.62, 'changePercent': 0.0027, 'close': 230.02, 'closeSource': 'official', 'closeTime': 1676581445331, 'companyName': 'Norfolk Southern Corp.', 'currency': 'USD', 'delayedPrice': 231.525, 'delayedPriceTime': 1676647175090, 'extendedChange': -2.74, 'extendedChangePercent': -0.01188, 'extendedPrice': 227.9, 'extendedPriceTime': 1676644199892, 'high': 232.62, 'highSource': '15 minute delayed price', 'highTime': 1676647175090, 'iexAskPrice': 235.89, 'iexAskSize': 100, 'iexBidPrice': 226.03, 'iexBidSize': 137, 'iexClose': 230.64, 'iexCloseTime': 1676648052745, 'iexLastUpdated': 1676648052745, 'iexMarketPercent': 0.0967356074808561, 'iexOpen': 227.99, 'iexOpenTime': 1676644201309, 'iexRealtimePrice': 230.64, 'iexRealtimeSize': 36, 'iexVolume': 83540, 'lastTradeTime': 1676648052745, 'latestPrice': 230.64, 'latestSource': 'IEX real time price', 'latestTime': '10:34:12 AM', 'latestUpdate': 1676648052745, 'latestVolume': 863591, 'low': 226.5, 'lowSource': '15 minute delayed price', 'lowTime': 1676644596408, 'marketCap': 52535687069, 'oddLotDelayedPrice': 231.526, 'oddLotDelayedPriceTime': 1676647175373, 'open': 228.6, 'openTime': 1676644200000, 'openSource': 'official', 'peRatio': 16.63, 'previousClose': 230.02, 'previousVolume': 3169479, 'primaryExchange': 'NEW YORK STOCK EXCHANGE INC.', 'symbol': 'NSC', 'volume': 863591, 'week52High': 285.6, 'week52Low': 201.43, 'ytdChange': -0.02220137010782889, 'isUSMarketOpen': True}}, 'CNI': {'quote': {'avgTotalVolume': 1063156, 'calculationPrice': 'tops', 'change': -0.275, 'changePercent': -0.00234, 'close': 117.44, 'closeSource': 'official', 'closeTime': 1676581202101, 'companyName': 'Canadian National Railway Co.', 'currency': 'USD', 'delayedPrice': 117.49, 'delayedPriceTime': 1676647168120, 'extendedChange': 0.135, 'extendedChangePercent': 0.00115, 'extendedPrice': 117.3, 'extendedPriceTime': 1676640967461, 'high': 117.615, 'highSource': 'IEX real time price', 'highTime': 1676647282771, 'iexAskPrice': 119.96, 'iexAskSize': 100, 'iexBidPrice': 117.13, 'iexBidSize': 100, 'iexClose': 117.165, 'iexCloseTime': 1676648052117, 'iexLastUpdated': 1676648052117, 'iexMarketPercent': 0.06287271743926218, 'iexOpen': 116.58, 'iexOpenTime': 1676644263203, 'iexRealtimePrice': 117.165, 'iexRealtimeSize': 40, 'iexVolume': 8835, 'lastTradeTime': 1676648052117, 'latestPrice': 117.165, 'latestSource': 'IEX real time price', 'latestTime': '10:34:12 AM', 'latestUpdate': 1676648052117, 'latestVolume': 140522, 'low': 116.5, 'lowSource': '15 minute delayed price', 'lowTime': 1676644247754, 'marketCap': 78784365106, 'oddLotDelayedPrice': 117.49, 'oddLotDelayedPriceTime': 1676647168121, 'open': 116.52, 'openTime': 1676644200000, 'openSource': 'official', 'peRatio': 21.38, 'previousClose': 117.44, 'previousVolume': 767904, 'primaryExchange': 'NEW YORK STOCK EXCHANGE INC.', 'symbol': 'CNI', 'volume': 140522, 'week52High': 135.27, 'week52Low': 103.35, 'ytdChange': -0.02059370121130554, 'isUSMarketOpen': True}}, 'CP': {'quote': {'avgTotalVolume': 2035359, 'calculationPrice': 'tops', 'change': -0.03, 'changePercent': -0.00038, 'close': 78.36, 'closeSource': 'official', 'closeTime': 1676581202168, 'companyName': 'Canadian Pacific Railway Ltd', 'currency': 'USD', 'delayedPrice': 78.55, 'delayedPriceTime': 1676647171039, 'extendedChange': 2.12, 'extendedChangePercent': 0.02706, 'extendedPrice': 80.45, 'extendedPriceTime': 1676643465479, 'high': 78.55, 'highSource': '15 minute delayed price', 'highTime': 1676647171570, 'iexAskPrice': 78.23, 'iexAskSize': 200, 'iexBidPrice': 78.17, 'iexBidSize': 300, 'iexClose': 78.33, 'iexCloseTime': 1676647516220, 'iexLastUpdated': 1676647516220, 'iexMarketPercent': 0.04048956857380173, 'iexOpen': 77.98, 'iexOpenTime': 1676644516207, 'iexRealtimePrice': 78.33, 'iexRealtimeSize': 100, 'iexVolume': 8287, 'lastTradeTime': 1676647516220, 'latestPrice': 78.33, 'latestSource': 'IEX real time price', 'latestTime': '10:25:16 AM', 'latestUpdate': 1676647516220, 'latestVolume': 204670, 'low': 77.68, 'lowSource': '15 minute delayed price', 'lowTime': 1676644722007, 'marketCap': 72885746667, 'oddLotDelayedPrice': 78.54, 'oddLotDelayedPriceTime': 1676647171041, 'open': 77.94, 'openTime': 1676644200000, 'openSource': 'official', 'peRatio': 32.77, 'previousClose': 78.36, 'previousVolume': 1076850, 'primaryExchange': 'NEW YORK STOCK EXCHANGE INC.', 'symbol': 'CP', 'volume': 204670, 'week52High': 83.72, 'week52Low': 65.04, 'ytdChange': 0.03970580238637882, 'isUSMarketOpen': True}}, 'RAIL': {'quote': {'avgTotalVolume': 38677, 'calculationPrice': 'previousclose', 'change': 0, 'changePercent': 0, 'close': None, 'closeSource': 'official', 'closeTime': None, 'companyName': 'FreightCar America Inc', 'currency': 'USD', 'delayedPrice': None, 'delayedPriceTime': None, 'extendedChange': None, 'extendedChangePercent': None, 'extendedPrice': None, 'extendedPriceTime': None, 'high': None, 'highSource': None, 'highTime': None, 'iexAskPrice': 0, 'iexAskSize': 0, 'iexBidPrice': 0, 'iexBidSize': 0, 'iexClose': 3.86, 'iexCloseTime': 1676568623336, 'iexLastUpdated': 0, 'iexMarketPercent': None, 'iexOpen': None, 'iexOpenTime': None, 'iexRealtimePrice': 0, 'iexRealtimeSize': 0, 'iexVolume': 0, 'lastTradeTime': 1676646379888, 'latestPrice': 3.9, 'latestSource': 'Previous close', 'latestTime': 'February 16, 2023', 'latestUpdate': 1676523600000, 'latestVolume': 9218, 'low': None, 'lowSource': None, 'lowTime': None, 'marketCap': 67170893, 'oddLotDelayedPrice': None, 'oddLotDelayedPriceTime': None, 'open': None, 'openTime': None, 'openSource': 'official', 'peRatio': -3.02, 'previousClose': 3.9, 'previousVolume': 23246, 'primaryExchange': 'NASDAQ', 'symbol': 'RAIL', 'volume': 9218, 'week52High': 6.9, 'week52Low': 3.07, 'ytdChange': 0.1625000000000001, 'isUSMarketOpen': True}}}\n"
     ]
    }
   ],
   "source": [
    "\"\"\"Railroad stocks Trading on the NYSE or NASDAQ as of Jan 23, 2023\"\"\"\n",
    "# define a list of stock symbols to retrieve data for\n",
    "rail_COMPANY_stocks = ['UNP','CSX','NSC','CNI','CP','RAIL']\n",
    "\n",
    "# define the API endpoint for retrieving batch stock quotes\n",
    "# using the batch parameter increases speed/efficiency, and is more polite, and cost effective -> limiting API pings\n",
    "endpoint = 'https://cloud.iexapis.com/stable/stock/market/batch'\n",
    "\n",
    "# define the API parameters for the batch stock quote request\n",
    "params = {\n",
    "    'symbols': ','.join(rail_COMPANY_stocks),\n",
    "    'types': 'quote',\n",
    "    'token': TOKEN_IEX_CLOUD_API\n",
    "}\n",
    "\n",
    "# send the API request and retrieve the response\n",
    "response = requests.get(endpoint, params=params)\n",
    "\n",
    "# check if the API request was successful\n",
    "if response.status_code == 200:\n",
    "    # print the response JSON data\n",
    "    print(response.json())\n",
    "else:\n",
    "    print('Error retrieving data from IEX Cloud')"
   ]
  },
  {
   "cell_type": "code",
   "execution_count": null,
   "metadata": {},
   "outputs": [],
   "source": [
    "\"\"\"Railroad-related (rail car leasing, repairs, etc.) stocks Trading on the US Markets\"\"\""
   ]
  },
  {
   "cell_type": "code",
   "execution_count": null,
   "metadata": {},
   "outputs": [],
   "source": []
  },
  {
   "cell_type": "code",
   "execution_count": null,
   "metadata": {},
   "outputs": [],
   "source": [
    "\"\"\"Railroad-related technology companies trading on the US Markets\"\"\""
   ]
  },
  {
   "cell_type": "code",
   "execution_count": null,
   "metadata": {},
   "outputs": [],
   "source": []
  },
  {
   "attachments": {},
   "cell_type": "markdown",
   "metadata": {},
   "source": [
    "| Railroads | General |\n",
    "| ----------- | ----------- |\n",
    "\n",
    "Railroad companies in the U.S.\n",
    "* Union Pacific Railroad: UNP\n",
    "* BNSF Railway: Private, owned by Berkshire Hathaway (BRK.A, BRK.B)\n",
    "* CSX Transportation: CSX\n",
    "* Norfolk Southern Railway: NSC\n",
    "* Amtrak: Private, not publicly traded\n",
    "\n",
    "\n",
    "| Coding Considerations / Planning & Ideas |\n",
    "| ----------- |\n",
    "* XXX\n",
    "* XXX"
   ]
  },
  {
   "cell_type": "markdown",
   "metadata": {},
   "source": []
  }
 ],
 "metadata": {
  "kernelspec": {
   "display_name": "TRADING_venv",
   "language": "python",
   "name": "python3"
  },
  "language_info": {
   "codemirror_mode": {
    "name": "ipython",
    "version": 3
   },
   "file_extension": ".py",
   "mimetype": "text/x-python",
   "name": "python",
   "nbconvert_exporter": "python",
   "pygments_lexer": "ipython3",
   "version": "3.11.1"
  },
  "orig_nbformat": 4,
  "vscode": {
   "interpreter": {
    "hash": "53d96d5b5b99e267628e5fe22b6bf0dd4eedc10f5f4c5cb6b57ee020fcfa289e"
   }
  }
 },
 "nbformat": 4,
 "nbformat_minor": 2
}
